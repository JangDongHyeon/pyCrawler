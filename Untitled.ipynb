{
 "cells": [
  {
   "cell_type": "code",
   "execution_count": 13,
   "metadata": {},
   "outputs": [
    {
     "name": "stdout",
     "output_type": "stream",
     "text": [
      "[<selenium.webdriver.remote.webelement.WebElement (session=\"3d3a23c47536860aaf77896b436ed7fb\", element=\"196bb10e-ebac-4d2f-9b84-4a758917c140\")>, <selenium.webdriver.remote.webelement.WebElement (session=\"3d3a23c47536860aaf77896b436ed7fb\", element=\"afe7e314-3d06-4ad1-8b4f-f5363bf99bec\")>, <selenium.webdriver.remote.webelement.WebElement (session=\"3d3a23c47536860aaf77896b436ed7fb\", element=\"e5b39147-37c7-4b51-8f97-e2391c87bfa9\")>, <selenium.webdriver.remote.webelement.WebElement (session=\"3d3a23c47536860aaf77896b436ed7fb\", element=\"49d76f55-73f2-4fb6-ac69-1a3a4a305137\")>, <selenium.webdriver.remote.webelement.WebElement (session=\"3d3a23c47536860aaf77896b436ed7fb\", element=\"18f4420a-72f2-42f6-a56c-33acf52c9523\")>, <selenium.webdriver.remote.webelement.WebElement (session=\"3d3a23c47536860aaf77896b436ed7fb\", element=\"8ff436f7-a1ca-46b3-83de-9f025b366126\")>, <selenium.webdriver.remote.webelement.WebElement (session=\"3d3a23c47536860aaf77896b436ed7fb\", element=\"b303d4d4-7274-4339-9b11-2e2129c9a55b\")>, <selenium.webdriver.remote.webelement.WebElement (session=\"3d3a23c47536860aaf77896b436ed7fb\", element=\"83b16cac-1653-4cd7-9f9d-1d001a735a76\")>, <selenium.webdriver.remote.webelement.WebElement (session=\"3d3a23c47536860aaf77896b436ed7fb\", element=\"e40b90cf-9094-4d00-a38e-a61bf304c71a\")>, <selenium.webdriver.remote.webelement.WebElement (session=\"3d3a23c47536860aaf77896b436ed7fb\", element=\"63871547-23c4-47da-af33-5f22f5d0c81f\")>, <selenium.webdriver.remote.webelement.WebElement (session=\"3d3a23c47536860aaf77896b436ed7fb\", element=\"7d24cd0e-b395-48d8-a1c9-223f2bfc021e\")>, <selenium.webdriver.remote.webelement.WebElement (session=\"3d3a23c47536860aaf77896b436ed7fb\", element=\"64e4b9f9-44a5-49ea-951b-af4b602ecb34\")>, <selenium.webdriver.remote.webelement.WebElement (session=\"3d3a23c47536860aaf77896b436ed7fb\", element=\"0adfeda2-d7b7-40ac-9d4a-069c8dac76f4\")>, <selenium.webdriver.remote.webelement.WebElement (session=\"3d3a23c47536860aaf77896b436ed7fb\", element=\"78bd5b61-1ece-4f63-8f80-38ea0b8bae32\")>, <selenium.webdriver.remote.webelement.WebElement (session=\"3d3a23c47536860aaf77896b436ed7fb\", element=\"8ffa9e83-e3e1-4084-aa66-5702c7e74268\")>, <selenium.webdriver.remote.webelement.WebElement (session=\"3d3a23c47536860aaf77896b436ed7fb\", element=\"3beb3d1c-672c-4101-a19e-29942e0f9cf5\")>, <selenium.webdriver.remote.webelement.WebElement (session=\"3d3a23c47536860aaf77896b436ed7fb\", element=\"cf03286a-3b59-4a48-bb68-5e102e47a5ff\")>, <selenium.webdriver.remote.webelement.WebElement (session=\"3d3a23c47536860aaf77896b436ed7fb\", element=\"636b2e01-c386-4eaf-8eb0-fdb8c61338fc\")>, <selenium.webdriver.remote.webelement.WebElement (session=\"3d3a23c47536860aaf77896b436ed7fb\", element=\"af510667-f3c6-4b40-a199-405a16dedd0c\")>, <selenium.webdriver.remote.webelement.WebElement (session=\"3d3a23c47536860aaf77896b436ed7fb\", element=\"0a03ad50-2ccc-4d72-a731-d81643c9a7c1\")>, <selenium.webdriver.remote.webelement.WebElement (session=\"3d3a23c47536860aaf77896b436ed7fb\", element=\"9dafc13a-2e6f-4795-aff8-cdb0d2964aaa\")>, <selenium.webdriver.remote.webelement.WebElement (session=\"3d3a23c47536860aaf77896b436ed7fb\", element=\"05e0ae3f-fb9d-4953-b8b2-46c56f17b35e\")>]\n",
      "\n",
      "Results\n",
      "Python Documentation by Version\n",
      "Download Python for Other Platforms\n",
      "Release – Python 2.5.3\n",
      "Python 2.5.4 Release\n",
      "Release – Python 2.5.4\n",
      "Python 2.5.3 Release\n",
      "Python 2.5 Release\n",
      "Python 2.5.2 Release\n",
      "Sunsetting Python 2\n",
      "Python 2.5.1 Release\n",
      "Release – Python 3.1.4\n",
      "Release – Python 2.5.0\n",
      "Release – Python 2.5.2\n",
      "Python 3.1.4 Release\n",
      "Python 3.1.3 Release\n",
      "Release – Python 2.5.1\n",
      "Python 3.2.1 Release\n",
      "Release – Python 2.7.9rc1\n",
      "Python 3.0 Release\n",
      "Python 3.2.5 Release\n"
     ]
    }
   ],
   "source": [
    "from selenium import webdriver\n",
    "from selenium.webdriver.common.keys import Keys\n",
    "import time\n",
    "chromedriver = 'C:/dev_python/Webdriver/chromedriver.exe'\n",
    "driver= webdriver.Chrome(chromedriver)\n",
    "\n",
    "driver.get('https://www.python.org')\n",
    "assert \"Python\" in driver.title\n",
    "\n",
    "elem = driver.find_element_by_name('q')\n",
    "elem.clear()\n",
    "\n",
    "elem.send_keys('python')\n",
    "\n",
    "elem.send_keys(Keys.RETURN)\n",
    "assert \"No results found.\" not in driver.page_source\n",
    "\n",
    "time.sleep(2)\n",
    "\n",
    "h3s = driver.find_elements_by_tag_name('h3')\n",
    "\n",
    "for h3 in h3s:\n",
    "    print(h3.text)\n",
    "\n",
    "driver.quit()"
   ]
  },
  {
   "cell_type": "code",
   "execution_count": 16,
   "metadata": {},
   "outputs": [
    {
     "name": "stdout",
     "output_type": "stream",
     "text": [
      "홈\n",
      "사회\n",
      "정치\n",
      "경제\n",
      "국제\n",
      "문화\n",
      "IT\n",
      "랭킹\n",
      "연재\n",
      "포토\n",
      "TV\n",
      "갤러리\n",
      "서울\n",
      "서울 23 ℃\n"
     ]
    }
   ],
   "source": [
    "from selenium import webdriver\n",
    "from selenium.webdriver.common.keys import Keys\n",
    "import time\n",
    "\n",
    "options = webdriver.ChromeOptions()\n",
    "options.add_argument('headless')\n",
    "options.add_argument('window-size=1920x1080')\n",
    "options.add_argument(\"disable-gpu\")\n",
    "agent=\"User-Agent: Mozilla/5.0 (Macintosh; Intel Mac OS X 10_14_4) AppleWebKit/537.36 (KHTML, like Gecko) Chrome/74.0.3729.131\"\n",
    "options.add_argument(agent)\n",
    "options.add_argument(\"lang=ko_KR\")\n",
    "\n",
    "\n",
    "chromedriver = 'C:/dev_python/Webdriver/chromedriver.exe'\n",
    "driver= webdriver.Chrome(chromedriver ,chrome_options=options)\n",
    "\n",
    "\n",
    "driver.get('http://v.media.daum.net/v/20170202185812986')\n",
    "nav = driver.find_element_by_css_selector(\"div[role='navigation']\")\n",
    "print(nav.text)\n",
    "\n",
    "driver.quit()\n"
   ]
  },
  {
   "cell_type": "code",
   "execution_count": 8,
   "metadata": {},
   "outputs": [
    {
     "ename": "TypeError",
     "evalue": "__init__() takes 2 positional arguments but 3 were given",
     "output_type": "error",
     "traceback": [
      "\u001b[1;31m---------------------------------------------------------------------------\u001b[0m",
      "\u001b[1;31mTypeError\u001b[0m                                 Traceback (most recent call last)",
      "\u001b[1;32m<ipython-input-8-dcb66665aa05>\u001b[0m in \u001b[0;36m<module>\u001b[1;34m\u001b[0m\n\u001b[0;32m     15\u001b[0m     \u001b[1;32mtry\u001b[0m\u001b[1;33m:\u001b[0m\u001b[1;33m\u001b[0m\u001b[1;33m\u001b[0m\u001b[0m\n\u001b[0;32m     16\u001b[0m         element= WebDriverWait(driver,5).until(\n\u001b[1;32m---> 17\u001b[1;33m         EC.presence_of_element_located(By.CSS_SELECTOR,'#alex-area > div > div > div > div.cmt_box > div.alex_more > button'))\n\u001b[0m\u001b[0;32m     18\u001b[0m         \u001b[0mmore_button\u001b[0m \u001b[1;33m=\u001b[0m \u001b[0mdriver\u001b[0m\u001b[1;33m.\u001b[0m\u001b[0mfind_element_by_css_selector\u001b[0m\u001b[1;33m(\u001b[0m\u001b[1;34m\"#alex-area > div > div > div > div.cmt_box > div.alex_more > button\"\u001b[0m\u001b[1;33m)\u001b[0m\u001b[1;33m\u001b[0m\u001b[1;33m\u001b[0m\u001b[0m\n\u001b[0;32m     19\u001b[0m         \u001b[0mwebdriver\u001b[0m\u001b[1;33m.\u001b[0m\u001b[0mActionChains\u001b[0m\u001b[1;33m(\u001b[0m\u001b[0mdriver\u001b[0m\u001b[1;33m)\u001b[0m\u001b[1;33m.\u001b[0m\u001b[0mclick\u001b[0m\u001b[1;33m(\u001b[0m\u001b[0mmore_button\u001b[0m\u001b[1;33m)\u001b[0m\u001b[1;33m.\u001b[0m\u001b[0mperform\u001b[0m\u001b[1;33m(\u001b[0m\u001b[1;33m)\u001b[0m\u001b[1;33m\u001b[0m\u001b[1;33m\u001b[0m\u001b[0m\n",
      "\u001b[1;31mTypeError\u001b[0m: __init__() takes 2 positional arguments but 3 were given"
     ]
    }
   ],
   "source": [
    "from selenium import webdriver\n",
    "from selenium.webdriver.common.by import By\n",
    "from selenium.webdriver.support.ui import WebDriverWait\n",
    "from selenium.webdriver.support import expected_conditions as EC\n",
    "from selenium.common.exceptions import TimeoutException\n",
    "import time\n",
    "\n",
    "chromedriver = 'C:/dev_python/Webdriver/chromedriver.exe'\n",
    "driver= webdriver.Chrome(chromedriver)\n",
    "driver.get(\"http://v.media.daum.net/v/20170922175202762\")\n",
    "\n",
    "loop,count =True,0\n",
    "\n",
    "while loop and count <10:\n",
    "    try:\n",
    "        element= WebDriverWait(driver,5).until(\n",
    "        EC.presence_of_element_located(By.CSS_SELECTOR,'#alex-area > div > div > div > div.cmt_box > div.alex_more > button'))\n",
    "        more_button = driver.find_element_by_css_selector(\"#alex-area > div > div > div > div.cmt_box > div.alex_more > button\")\n",
    "        webdriver.ActionChains(driver).click(more_button).perform()\n",
    "        count+=1\n",
    "        time.sleep(2)\n",
    "    except TimeoutException:\n",
    "        loop=False\n",
    "try:\n",
    "    element = WebDriverWait(driver,3).until(\n",
    "        EC.presence_of_element_located((By.ID,\"alex-area\"))\n",
    "    )\n",
    "except:\n",
    "    print(\"댓글 관련 태그가 없습니다.\")\n",
    "else:\n",
    "    loop=True\n",
    "    comment_box=driver.find_element_by_css_selector(\"#alex-area > div > div > div > div.cmt_box > ul.list_comment\") \n",
    "    print(comment_box)\n",
    "    comment_list=comment_box.find_elements_by_css_selector(\"li\")\n",
    "    for num,comment_item in enumerate(comment_list):\n",
    "        print(comment_item.find_element_by_css_selector(\"div p\").text)\n",
    "driver.quit()"
   ]
  },
  {
   "cell_type": "code",
   "execution_count": null,
   "metadata": {},
   "outputs": [],
   "source": []
  }
 ],
 "metadata": {
  "kernelspec": {
   "display_name": "Python 3",
   "language": "python",
   "name": "python3"
  },
  "language_info": {
   "codemirror_mode": {
    "name": "ipython",
    "version": 3
   },
   "file_extension": ".py",
   "mimetype": "text/x-python",
   "name": "python",
   "nbconvert_exporter": "python",
   "pygments_lexer": "ipython3",
   "version": "3.8.5"
  }
 },
 "nbformat": 4,
 "nbformat_minor": 4
}
